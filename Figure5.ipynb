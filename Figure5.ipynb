{
 "cells": [
  {
   "cell_type": "markdown",
   "id": "99a884c9-956e-4bb2-8ee8-91b932035e4b",
   "metadata": {},
   "source": [
    "In this notebook, we perform the analyses pertaining to figure 5. \n",
    "This includes \n",
    "- registration of data to the templates used in the study\n",
    "- masking and translation of mouse Alzheimer's map, comparison with human map (permutation test)\n",
    "- creation and translation of mouse Parkinson's map, comparison with human map (permutation test)"
   ]
  }
 ],
 "metadata": {
  "kernelspec": {
   "display_name": "Python 3 (ipykernel)",
   "language": "python",
   "name": "python3"
  },
  "language_info": {
   "codemirror_mode": {
    "name": "ipython",
    "version": 3
   },
   "file_extension": ".py",
   "mimetype": "text/x-python",
   "name": "python",
   "nbconvert_exporter": "python",
   "pygments_lexer": "ipython3",
   "version": "3.12.1"
  }
 },
 "nbformat": 4,
 "nbformat_minor": 5
}
