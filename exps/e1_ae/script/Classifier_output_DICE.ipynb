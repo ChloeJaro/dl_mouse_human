{
 "cells": [
  {
   "cell_type": "code",
   "execution_count": 1,
   "id": "a8c4f7da",
   "metadata": {},
   "outputs": [],
   "source": [
    "import os\n",
    "\n",
    "import sys\n",
    "sys.path.append('/well/mars/users/uvy786/python') # On BMRC\n",
    "\n",
    "import numpy as np\n",
    "import pandas as pd\n",
    "import torch\n",
    "import torch.optim as optim\n",
    "from torch.utils.data import DataLoader\n",
    "from torch.utils.data import Dataset\n",
    "\n",
    "import matplotlib.pyplot as plt\n",
    "from pyminc.volumes.factory import volumeFromFile"
   ]
  },
  {
   "cell_type": "code",
   "execution_count": null,
   "id": "b3094636",
   "metadata": {},
   "outputs": [],
   "source": []
  },
  {
   "cell_type": "code",
   "execution_count": 5,
   "id": "db206cb2",
   "metadata": {},
   "outputs": [],
   "source": [
    "results_path=\"/well/mars/users/uvy786/dl_mouse_human/exps/e1_ae/results.ign/3layers/50_DO_weight_decay_e-1\""
   ]
  },
  {
   "cell_type": "code",
   "execution_count": null,
   "id": "22be28db",
   "metadata": {},
   "outputs": [],
   "source": []
  }
 ],
 "metadata": {
  "kernelspec": {
   "display_name": "Python 3 (ipykernel)",
   "language": "python",
   "name": "python3"
  },
  "language_info": {
   "codemirror_mode": {
    "name": "ipython",
    "version": 3
   },
   "file_extension": ".py",
   "mimetype": "text/x-python",
   "name": "python",
   "nbconvert_exporter": "python",
   "pygments_lexer": "ipython3",
   "version": "3.8.10"
  }
 },
 "nbformat": 4,
 "nbformat_minor": 5
}
