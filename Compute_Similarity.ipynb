{
 "cells": [
  {
   "cell_type": "markdown",
   "id": "ccc54c2c-a448-43c0-aac9-e1ef73d44384",
   "metadata": {},
   "source": [
    "Ideally, we would load the matrix directly, but as this is quite a large file we won't necessarily have it readily available. So before running the tutorials to generate the figures, we may need to compute the similarity matrix from the embeddings."
   ]
  },
  {
   "cell_type": "code",
   "execution_count": null,
   "id": "97ee4658-0a86-4b8d-b93d-aa2310a9337f",
   "metadata": {},
   "outputs": [],
   "source": [
    "import pandas as pd\n",
    "import numpy as np\n",
    "import os\n",
    "import matplotlib.pyplot as plt\n",
    "import nibabel as nib\n",
    "import nilearn\n",
    "import matplotlib\n",
    "import matplotlib.pyplot as plt\n",
    "%matplotlib inline\n",
    "from scipy import stats\n"
   ]
  },
  {
   "cell_type": "code",
   "execution_count": null,
   "id": "770260cd-a86a-4e4d-8a54-2eb24c998faf",
   "metadata": {},
   "outputs": [],
   "source": [
    "# Load mouse and human embeddings\n",
    "human_vox_embedding = pd.read_csv('data/mouse_human/vae_emb/human_voxel_2mm_encoding.csv')\n",
    "mouse_vox_embedding = pd.read_csv('data/mouse_human/vae_emb/mouse_voxel_encoding.csv')\n",
    "\n",
    "hu_vox_emb = human_vox_embedding.iloc[:,:-1].to_numpy()\n",
    "column_reg = mouse_vox_embedding.columns.str.match(\"Region\")\n",
    "mo_vox_emb = mouse_vox_embedding.loc[:,~column_reg].to_numpy()\n",
    "\n",
    "# Normalise data\n",
    "mo_vox_scaled = stats.zscore(mo_vox_emb)\n",
    "hu_vox_scaled= stats.zscore(hu_vox_emb)\n",
    "\n",
    "dat_to_cor = pd.concat([pd.DataFrame(hu_vox_scaled), pd.DataFrame(mo_vox_scaled)])\n",
    "\n",
    "similarity = np.corrcoef(np.array(dat_to_cor))[-len(mo_vox_emb):,0:len(hu_vox_emb)]\n",
    "\n",
    "# Save matrix to use for later\n",
    "np.save('similarity_scored.csv', similarity)\n"
   ]
  }
 ],
 "metadata": {
  "kernelspec": {
   "display_name": "Python 3 (ipykernel)",
   "language": "python",
   "name": "python3"
  },
  "language_info": {
   "codemirror_mode": {
    "name": "ipython",
    "version": 3
   },
   "file_extension": ".py",
   "mimetype": "text/x-python",
   "name": "python",
   "nbconvert_exporter": "python",
   "pygments_lexer": "ipython3",
   "version": "3.12.1"
  }
 },
 "nbformat": 4,
 "nbformat_minor": 5
}
