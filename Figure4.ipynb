{
 "cells": [
  {
   "cell_type": "markdown",
   "id": "e1ab0e25-1456-4030-a553-711c61a72f56",
   "metadata": {},
   "source": [
    "In this notebook, we aim to perform the analyses leading to the plots in figure 4. \n",
    "- Surface-based representation of translations from specific cortical regions\n",
    "- Difference maps\n",
    "- Radar plots depicting the proportion of voxels in the target area originating from each mouse region.\n",
    "- Cortical translation of gene expression PCA and comparison to human gene expression PCA with permutation tests accounting\n",
    "for spatial autocorrelation"
   ]
  }
 ],
 "metadata": {
  "kernelspec": {
   "display_name": "Python 3 (ipykernel)",
   "language": "python",
   "name": "python3"
  },
  "language_info": {
   "codemirror_mode": {
    "name": "ipython",
    "version": 3
   },
   "file_extension": ".py",
   "mimetype": "text/x-python",
   "name": "python",
   "nbconvert_exporter": "python",
   "pygments_lexer": "ipython3",
   "version": "3.12.1"
  }
 },
 "nbformat": 4,
 "nbformat_minor": 5
}
