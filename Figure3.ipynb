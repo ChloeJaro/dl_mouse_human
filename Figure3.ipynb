{
 "cells": [
  {
   "cell_type": "markdown",
   "id": "c13a7e6d-94d0-4e13-9b2d-38ceb6b5fd4d",
   "metadata": {},
   "source": [
    "In this notebook, we aim to perform the analysis leading to the plots in Figure3. \n",
    "This includes:\n",
    "- Translation plots for each mouse region\n",
    "- Scores (hit/near hit/miss) bar plot\n",
    "- Pie charts on average scores per constituent part"
   ]
  }
 ],
 "metadata": {
  "kernelspec": {
   "display_name": "Python 3 (ipykernel)",
   "language": "python",
   "name": "python3"
  },
  "language_info": {
   "codemirror_mode": {
    "name": "ipython",
    "version": 3
   },
   "file_extension": ".py",
   "mimetype": "text/x-python",
   "name": "python",
   "nbconvert_exporter": "python",
   "pygments_lexer": "ipython3",
   "version": "3.12.1"
  }
 },
 "nbformat": 4,
 "nbformat_minor": 5
}
